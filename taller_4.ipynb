{
  "nbformat": 4,
  "nbformat_minor": 0,
  "metadata": {
    "colab": {
      "provenance": []
    },
    "kernelspec": {
      "name": "python3",
      "display_name": "Python 3"
    },
    "language_info": {
      "name": "python"
    }
  },
  "cells": [
    {
      "cell_type": "code",
      "execution_count": 2,
      "metadata": {
        "id": "6qgiAIZ4xScn"
      },
      "outputs": [],
      "source": [
        "import random\n",
        "\n"
      ]
    },
    {
      "cell_type": "markdown",
      "source": [
        "# estimacion de pi con el metodo montecarlo"
      ],
      "metadata": {
        "id": "K6Da_v993AT2"
      }
    },
    {
      "cell_type": "code",
      "source": [
        "ciruclo_puntos=0\n",
        "cuadro_putnos=0\n",
        "intervalo=100000000\n",
        "for i in range(intervalo):\n",
        "    rand_x=random.uniform(0,1)\n",
        "    rand_y=random.uniform(0,1)\n",
        "    origin_dist=(rand_x**2 + rand_y**2)**0.5\n",
        "    if origin_dist<=1:\n",
        "      ciruclo_puntos+=1\n",
        "\n",
        "    cuadro_putnos+=1\n",
        "\n",
        "\n",
        "    pi =4*ciruclo_puntos/cuadro_putnos\n",
        "\n",
        "\n",
        "print(\"pi estimado\",pi)\n",
        "print(\"total de puntos\",ciruclo_puntos)"
      ],
      "metadata": {
        "colab": {
          "base_uri": "https://localhost:8080/"
        },
        "id": "OAx53Q1JyruI",
        "outputId": "d26400ed-660b-4ff0-a699-718bf64f7146"
      },
      "execution_count": 14,
      "outputs": [
        {
          "output_type": "stream",
          "name": "stdout",
          "text": [
            "pi estimado 3.14139972\n",
            "total de puntos 78534993\n"
          ]
        }
      ]
    }
  ]
}